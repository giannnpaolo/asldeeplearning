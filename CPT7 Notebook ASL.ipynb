{
 "cells": [
  {
   "cell_type": "code",
   "execution_count": 1,
   "metadata": {
    "id": "vqiYQ6dg5mn7"
   },
   "outputs": [],
   "source": [
    "import matplotlib.pyplot as plt\n",
    "import seaborn as sns\n",
    "from keras.models import Sequential\n",
    "from keras.layers import Dense, Conv2D , MaxPool2D , Flatten , Dropout , BatchNormalization\n",
    "#from keras.preprocessing.image import ImageDataGenerator\n",
    "from tensorflow.keras.preprocessing.image import ImageDataGenerator\n",
    "from sklearn.model_selection import train_test_split\n",
    "from sklearn.metrics import classification_report,confusion_matrix\n",
    "import pandas as pd\n",
    "import numpy as np\n",
    "import matplotlib.pyplot as plt\n",
    "import tensorflow as tf\n",
    "from tensorflow.keras.preprocessing.image import ImageDataGenerator\n",
    "from sklearn.model_selection import train_test_split\n",
    "\n",
    "\n"
   ]
  },
  {
   "cell_type": "code",
   "execution_count": 2,
   "metadata": {
    "colab": {
     "base_uri": "https://localhost:8080/"
    },
    "id": "upzZiqS453C9",
    "outputId": "7f6826f8-b3c4-488c-f625-bb8da9675f79"
   },
   "outputs": [],
   "source": [
    "import os, shutil\n",
    "\n",
    "# Uncomment the following line to mount the google drive\n",
    "#from google.colab import drive\n",
    "#drive.mount('/content/drive')\n",
    "#data_dir = '/content/drive/MyDrive/ML3/Final Project/CV2/data/'\n",
    "\n",
    "# Set the data directory for local use.\n",
    "data_dir = 'data/' #  Ensure SMNIST csv is in this directory\n",
    "model_dir = 'models/' # Directory to save models\n",
    "plot_dir = 'plots/' # Directory to save plots"
   ]
  },
  {
   "cell_type": "code",
   "execution_count": 3,
   "metadata": {
    "id": "rnhTrrjr52bS"
   },
   "outputs": [],
   "source": [
    "train_df = pd.read_csv(data_dir + \"sign_mnist_train.csv\")\n",
    "test_df = pd.read_csv(data_dir + \"sign_mnist_test.csv\")\n",
    "\n",
    "y_train = train_df['label']\n",
    "y_test = test_df['label']\n",
    "del train_df['label']\n",
    "del test_df['label']\n",
    "\n",
    "from sklearn.preprocessing import LabelBinarizer\n",
    "label_binarizer = LabelBinarizer()\n",
    "y_train = label_binarizer.fit_transform(y_train)\n",
    "y_test = label_binarizer.fit_transform(y_test)\n"
   ]
  },
  {
   "cell_type": "code",
   "execution_count": 4,
   "metadata": {
    "id": "FW2mvNzw5mn-"
   },
   "outputs": [],
   "source": [
    "x_train = train_df.values\n",
    "x_test = test_df.values\n",
    "\n",
    "x_train = x_train / 255\n",
    "x_test = x_test / 255\n",
    "\n",
    "x_train = x_train.reshape(-1,28,28,1)\n",
    "x_test = x_test.reshape(-1,28,28,1)"
   ]
  },
  {
   "cell_type": "markdown",
   "metadata": {
    "colab": {
     "base_uri": "https://localhost:8080/",
     "height": 1000
    },
    "id": "qb2gL90C5moA",
    "outputId": "d407b4bd-4d10-466a-b5fb-2848c019ebad"
   },
   "source": [
    "## import numpy as np\n",
    "import pandas as pd\n",
    "import matplotlib.pyplot as plt\n",
    "import seaborn as sns\n",
    "import time\n",
    "import tensorflow as tf\n",
    "from tensorflow.keras.preprocessing.image import ImageDataGenerator\n",
    "from tensorflow.keras.layers import Conv2D, MaxPooling2D, Flatten, Dense, Dropout\n",
    "from tensorflow.keras.models import Sequential\n",
    "from sklearn.metrics import confusion_matrix, classification_report\n",
    "from sklearn.preprocessing import LabelBinarizer\n",
    "\n",
    "from tensorflow.keras.callbacks import LearningRateScheduler, EarlyStopping, ModelCheckpoint\n",
    "\n",
    "def focal_loss_fixed(y_true, y_pred, gamma=2., alpha=0.25):\n",
    "    epsilon = tf.keras.backend.epsilon()\n",
    "    y_true = tf.cast(y_true, dtype=tf.float32)\n",
    "    y_pred = tf.clip_by_value(y_pred, epsilon, 1. - epsilon)\n",
    "    alpha_t = y_true * alpha + (1 - y_true) * (1 - alpha)\n",
    "    p_t = y_true * y_pred + (1 - y_true) * (1 - y_pred)\n",
    "    fl = -alpha_t * tf.keras.backend.pow((1 - p_t), gamma) * tf.keras.backend.log(p_t)\n",
    "    return tf.keras.backend.mean(tf.keras.backend.sum(fl, axis=-1))\n",
    "\n",
    "@tf.keras.utils.register_keras_serializable()\n",
    "def focal_loss(gamma=2., alpha=0.25):\n",
    "    def loss(y_true, y_pred):\n",
    "        return focal_loss_fixed(y_true, y_pred, gamma, alpha)\n",
    "    return loss\n",
    "\n",
    "# Load and preprocess dataset\n",
    "train_df = pd.read_csv(data_dir + \"sign_mnist_train.csv\")\n",
    "test_df = pd.read_csv(data_dir + \"sign_mnist_test.csv\")\n",
    "\n",
    "y_train = train_df['label']\n",
    "y_test = test_df['label']\n",
    "del train_df['label']\n",
    "del test_df['label']\n",
    "\n",
    "label_binarizer = LabelBinarizer()\n",
    "y_train = label_binarizer.fit_transform(y_train)\n",
    "y_test = label_binarizer.transform(y_test)  # Use transform instead of fit_transform\n",
    "\n",
    "x_train = train_df.values / 255.0\n",
    "x_test = test_df.values / 255.0\n",
    "\n",
    "x_train = x_train.reshape(-1, 28, 28, 1)\n",
    "x_test = x_test.reshape(-1, 28, 28, 1)\n",
    "\n",
    "# Data augmentation\n",
    "datagen = ImageDataGenerator(\n",
    "    rotation_range=10,\n",
    "    width_shift_range=0.1,\n",
    "    height_shift_range=0.1,\n",
    "    zoom_range=0.1,\n",
    "    shear_range=0.1,\n",
    "    horizontal_flip=True,\n",
    "    fill_mode='nearest'\n",
    ")\n",
    "datagen.fit(x_train)\n",
    "\n",
    "# Model architecture\n",
    "num_classes = y_train.shape[1]\n",
    "model = Sequential([\n",
    "    Conv2D(32, (3, 3), activation='relu', input_shape=(28, 28, 1), padding='same'),\n",
    "    MaxPooling2D((2, 2)),\n",
    "    Conv2D(64, (3, 3), activation='relu', padding='same'),\n",
    "    MaxPooling2D((2, 2)),\n",
    "    Conv2D(128, (3, 3), activation='relu', padding='same'),\n",
    "    MaxPooling2D((2, 2)),\n",
    "    Flatten(),\n",
    "    Dense(512, activation='relu'),\n",
    "    Dropout(0.5),\n",
    "    Dense(num_classes, activation='softmax')\n",
    "])\n",
    "\n",
    "# Compile the model with focal loss\n",
    "model.compile(optimizer='adam', loss=focal_loss(), metrics=['accuracy'])\n",
    "\n",
    "# Class weights to handle class imbalance\n",
    "class_weights = {i: 1.0 for i in range(num_classes)}\n",
    "class_weights[12] = 2.0  # Adjust for 'm' (assuming class index 12)\n",
    "class_weights[13] = 2.0  # Adjust for 'n' (assuming class index 13)\n",
    "\n",
    "# Train the model\n",
    "checkpoint = ModelCheckpoint(model_dir + 'smnist.cnn-32.64.128.512-50e.best.keras', monitor='val_loss', save_best_only=True)\n",
    "start_time = time.time()\n",
    "history = model.fit(datagen.flow(x_train, y_train, batch_size=32),\n",
    "                    epochs=50,\n",
    "                    validation_data=(x_test, y_test),\n",
    "                    class_weight=class_weights,\n",
    "                    callbacks=checkpoint)\n",
    "end_time = time.time()\n",
    "\n",
    "training_time = end_time - start_time\n",
    "\n",
    "model.save(model_dir + 'smnist.cnn-32.64.128.512-50e.last.keras')\n",
    "\n",
    "model.summary()\n",
    "\n",
    "# Evaluate and visualize confusion matrix\n",
    "y_pred = model.predict(x_test)\n",
    "y_pred_classes = np.argmax(y_pred, axis=1)\n",
    "y_true_classes = np.argmax(y_test, axis=1)\n",
    "\n",
    "# Generate confusion matrix\n",
    "conf_matrix = confusion_matrix(y_true_classes, y_pred_classes)\n",
    "\n",
    "# Plot confusion matrix\n",
    "plt.figure(figsize=(10, 8))\n",
    "sns.heatmap(conf_matrix, annot=True, fmt='d', cmap='Blues', xticklabels=range(num_classes), yticklabels=range(num_classes))\n",
    "plt.xlabel('Predicted Labels')\n",
    "plt.ylabel('True Labels')\n",
    "plt.title('Confusion Matrix')\n",
    "plt.show()\n"
   ]
  },
  {
   "cell_type": "code",
   "execution_count": 6,
   "metadata": {
    "colab": {
     "base_uri": "https://localhost:8080/"
    },
    "id": "0sFaFMoal-Zz",
    "outputId": "0af54f89-9fde-4990-c64c-89c321bfcc27"
   },
   "outputs": [
    {
     "name": "stdout",
     "output_type": "stream",
     "text": [
      "              precision    recall  f1-score   support\n",
      "\n",
      "           A       0.98      1.00      0.99       331\n",
      "           B       1.00      1.00      1.00       432\n",
      "           C       1.00      1.00      1.00       310\n",
      "           D       1.00      1.00      1.00       245\n",
      "           E       0.99      1.00      1.00       498\n",
      "           F       1.00      1.00      1.00       247\n",
      "           G       1.00      0.99      0.99       348\n",
      "           H       0.99      1.00      0.99       436\n",
      "           I       1.00      1.00      1.00       288\n",
      "           K       1.00      1.00      1.00       331\n",
      "           L       1.00      1.00      1.00       209\n",
      "           M       1.00      1.00      1.00       394\n",
      "           N       1.00      1.00      1.00       291\n",
      "           O       1.00      1.00      1.00       246\n",
      "           P       1.00      1.00      1.00       347\n",
      "           Q       1.00      1.00      1.00       164\n",
      "           R       0.99      1.00      1.00       144\n",
      "           S       1.00      0.95      0.97       246\n",
      "           T       1.00      1.00      1.00       248\n",
      "           U       1.00      1.00      1.00       266\n",
      "           V       1.00      1.00      1.00       346\n",
      "           W       1.00      1.00      1.00       206\n",
      "           X       1.00      1.00      1.00       267\n",
      "           Y       0.99      1.00      1.00       332\n",
      "\n",
      "    accuracy                           1.00      7172\n",
      "   macro avg       1.00      1.00      1.00      7172\n",
      "weighted avg       1.00      1.00      1.00      7172\n",
      "\n"
     ]
    }
   ],
   "source": [
    "# Assuming num_classes is 24\n",
    "num_classes = 24\n",
    "# y_true_classes and y_pred_classes are your true and predicted class labels\n",
    "\n",
    "# Create the list of target names, excluding 'J' and 'Z'\n",
    "target_names = [chr(i) for i in range(65, 65 + 26) if chr(i) not in ['J', 'Z']]\n",
    "\n",
    "# Print classification report\n",
    "print(classification_report(y_true_classes, y_pred_classes, target_names=target_names))"
   ]
  },
  {
   "cell_type": "code",
   "execution_count": 7,
   "metadata": {
    "colab": {
     "base_uri": "https://localhost:8080/",
     "height": 407
    },
    "id": "MgHKh35hpUA-",
    "outputId": "c550b8e4-f9ea-4083-b496-121e6ba902a8"
   },
   "outputs": [
    {
     "data": {
      "image/png": "[encoded data removed]",
      "text/plain": [
       "<Figure size 1200x400 with 2 Axes>"
      ]
     },
     "metadata": {},
     "output_type": "display_data"
    }
   ],
   "source": [
    "# Accuracy plot\n",
    "plt.figure(figsize=(12, 4))\n",
    "plt.subplot(1, 2, 1)\n",
    "plt.plot(history.history['accuracy'], label='Train Accuracy', color='#CD4D42')\n",
    "plt.plot(history.history['val_accuracy'], label='Validation Accuracy', color='#7B96D4')\n",
    "plt.xlabel('Epochs')\n",
    "plt.ylabel('Accuracy')\n",
    "plt.legend()\n",
    "plt.title('Accuracy Evolution')\n",
    "\n",
    "# Loss plot\n",
    "plt.subplot(1, 2, 2)\n",
    "plt.plot(history.history['loss'], label='Train Loss', color='#CD4D42')\n",
    "plt.plot(history.history['val_loss'], label='Validation Loss', color='#7B96D4')\n",
    "plt.xlabel('Epochs')\n",
    "plt.ylabel('Loss')\n",
    "plt.legend()\n",
    "plt.title('Loss Evolution')\n",
    "\n",
    "plt.tight_layout()\n",
    "plt.show()"
   ]
  },
  {
   "cell_type": "markdown",
   "metadata": {},
   "source": [
    "# CV2 Video Inferencing"
   ]
  },
  {
   "cell_type": "markdown",
   "metadata": {},
   "source": [
    "# Inferencing App"
   ]
  },
  {
   "cell_type": "markdown",
   "metadata": {},
   "source": [
    "## Semi works"
   ]
  },
  {
   "cell_type": "markdown",
   "metadata": {},
   "source": [
    "## Try 10:"
   ]
  },
  {
   "cell_type": "code",
   "execution_count": null,
   "metadata": {},
   "outputs": [
    {
     "name": "stdout",
     "output_type": "stream",
     "text": [
      "Running on local URL:  http://127.0.0.1:7861\n",
      "\n",
      "To create a public link, set `share=True` in `launch()`.\n"
     ]
    },
    {
     "data": {
      "text/html": [
       "<div><iframe src=\"http://127.0.0.1:7861/\" width=\"100%\" height=\"500\" allow=\"autoplay; camera; microphone; clipboard-read; clipboard-write;\" frameborder=\"0\" allowfullscreen></iframe></div>"
      ],
      "text/plain": [
       "<IPython.core.display.HTML object>"
      ]
     },
     "metadata": {},
     "output_type": "display_data"
    },
    {
     "data": {
      "text/plain": []
     },
     "execution_count": 12,
     "metadata": {},
     "output_type": "execute_result"
    },
    {
     "name": "stdout",
     "output_type": "stream",
     "text": [
      "Received frame of type: <class 'str'>\n",
      "Frame path: /private/var/folders/vd/py_n7g1111q0ycpyfz5ny3jr0000gn/T/gradio/f807ee23c77fa05411900dc732b3414f0a5e84e1/sample.mp4\n",
      "Processing frame of shape: (1440, 1920, 3)\n",
      "\u001b[1m1/1\u001b[0m \u001b[32m━━━━━━━━━━━━━━━━━━━━\u001b[0m\u001b[37m\u001b[0m \u001b[1m0s\u001b[0m 9ms/step\n"
     ]
    },
    {
     "name": "stderr",
     "output_type": "stream",
     "text": [
      "I0000 00:00:1717747490.662687  327958 gl_context.cc:357] GL version: 2.1 (2.1 Metal - 88.1), renderer: Apple M2\n",
      "W0000 00:00:1717747490.689497  329032 inference_feedback_manager.cc:114] Feedback manager requires a model with a single signature inference. Disabling support for feedback tensors.\n",
      "W0000 00:00:1717747490.693212  329032 inference_feedback_manager.cc:114] Feedback manager requires a model with a single signature inference. Disabling support for feedback tensors.\n",
      "/Users/richardrian/anaconda3/lib/python3.11/site-packages/google/protobuf/symbol_database.py:55: UserWarning: SymbolDatabase.GetPrototype() is deprecated. Please use message_factory.GetMessageClass() instead. SymbolDatabase.GetPrototype() will be removed soon.\n",
      "  warnings.warn('SymbolDatabase.GetPrototype() is deprecated. Please '\n"
     ]
    },
    {
     "name": "stdout",
     "output_type": "stream",
     "text": [
      "Received frame of type: <class 'NoneType'>\n",
      "Frame is None!\n",
      "Received frame of type: <class 'str'>\n",
      "Frame path: /private/var/folders/vd/py_n7g1111q0ycpyfz5ny3jr0000gn/T/gradio/aa91fcd83b742d166f5ff0fc3629e0f8e4df1043/sample.mp4\n",
      "Processing frame of shape: (1440, 1920, 3)\n",
      "\u001b[1m1/1\u001b[0m \u001b[32m━━━━━━━━━━━━━━━━━━━━\u001b[0m\u001b[37m\u001b[0m \u001b[1m0s\u001b[0m 9ms/step\n"
     ]
    },
    {
     "name": "stderr",
     "output_type": "stream",
     "text": [
      "I0000 00:00:1717747780.659406  327958 gl_context.cc:357] GL version: 2.1 (2.1 Metal - 88.1), renderer: Apple M2\n",
      "W0000 00:00:1717747780.680223  338635 inference_feedback_manager.cc:114] Feedback manager requires a model with a single signature inference. Disabling support for feedback tensors.\n",
      "W0000 00:00:1717747780.696541  338635 inference_feedback_manager.cc:114] Feedback manager requires a model with a single signature inference. Disabling support for feedback tensors.\n"
     ]
    },
    {
     "name": "stdout",
     "output_type": "stream",
     "text": [
      "Received frame of type: <class 'NoneType'>\n",
      "Frame is None!\n",
      "Received frame of type: <class 'str'>\n",
      "Frame path: /private/var/folders/vd/py_n7g1111q0ycpyfz5ny3jr0000gn/T/gradio/d78b2313ec5e6078799c5b12c1c54806e871ba77/sample.mp4\n",
      "Processing frame of shape: (1440, 1920, 3)\n",
      "\u001b[1m1/1\u001b[0m \u001b[32m━━━━━━━━━━━━━━━━━━━━\u001b[0m\u001b[37m\u001b[0m \u001b[1m0s\u001b[0m 15ms/step\n"
     ]
    },
    {
     "name": "stderr",
     "output_type": "stream",
     "text": [
      "I0000 00:00:1717747868.518248  327958 gl_context.cc:357] GL version: 2.1 (2.1 Metal - 88.1), renderer: Apple M2\n",
      "W0000 00:00:1717747868.526896  341784 inference_feedback_manager.cc:114] Feedback manager requires a model with a single signature inference. Disabling support for feedback tensors.\n",
      "W0000 00:00:1717747868.532192  341784 inference_feedback_manager.cc:114] Feedback manager requires a model with a single signature inference. Disabling support for feedback tensors.\n"
     ]
    },
    {
     "name": "stdout",
     "output_type": "stream",
     "text": [
      "Received frame of type: <class 'NoneType'>\n",
      "Frame is None!\n",
      "Received frame of type: <class 'str'>\n",
      "Frame path: /private/var/folders/vd/py_n7g1111q0ycpyfz5ny3jr0000gn/T/gradio/911909c7a50edb2a79122a558bd4ebd45735433e/sample.mp4\n",
      "Processing frame of shape: (1440, 1920, 3)\n",
      "\u001b[1m1/1\u001b[0m \u001b[32m━━━━━━━━━━━━━━━━━━━━\u001b[0m\u001b[37m\u001b[0m \u001b[1m0s\u001b[0m 10ms/step\n"
     ]
    },
    {
     "name": "stderr",
     "output_type": "stream",
     "text": [
      "I0000 00:00:1717747966.609968  327958 gl_context.cc:357] GL version: 2.1 (2.1 Metal - 88.1), renderer: Apple M2\n",
      "W0000 00:00:1717747966.634401  345556 inference_feedback_manager.cc:114] Feedback manager requires a model with a single signature inference. Disabling support for feedback tensors.\n",
      "W0000 00:00:1717747966.640004  345557 inference_feedback_manager.cc:114] Feedback manager requires a model with a single signature inference. Disabling support for feedback tensors.\n"
     ]
    },
    {
     "name": "stdout",
     "output_type": "stream",
     "text": [
      "Received frame of type: <class 'NoneType'>\n",
      "Frame is None!\n",
      "Received frame of type: <class 'str'>\n",
      "Frame path: /private/var/folders/vd/py_n7g1111q0ycpyfz5ny3jr0000gn/T/gradio/d98ae822c22d5e9f9b343041b51edbf2da00e285/sample.mp4\n",
      "Processing frame of shape: (1440, 1920, 3)\n",
      "\u001b[1m1/1\u001b[0m \u001b[32m━━━━━━━━━━━━━━━━━━━━\u001b[0m\u001b[37m\u001b[0m \u001b[1m0s\u001b[0m 20ms/step\n"
     ]
    },
    {
     "name": "stderr",
     "output_type": "stream",
     "text": [
      "I0000 00:00:1717748000.160063  346981 gl_context.cc:357] GL version: 2.1 (2.1 Metal - 88.1), renderer: Apple M2\n",
      "W0000 00:00:1717748000.173485  346997 inference_feedback_manager.cc:114] Feedback manager requires a model with a single signature inference. Disabling support for feedback tensors.\n",
      "W0000 00:00:1717748000.178142  346997 inference_feedback_manager.cc:114] Feedback manager requires a model with a single signature inference. Disabling support for feedback tensors.\n"
     ]
    },
    {
     "name": "stdout",
     "output_type": "stream",
     "text": [
      "Received frame of type: <class 'NoneType'>\n",
      "Frame is None!\n",
      "Received frame of type: <class 'str'>\n",
      "Frame path: /private/var/folders/vd/py_n7g1111q0ycpyfz5ny3jr0000gn/T/gradio/828da13aa735c5f23bf17866c02a22a262b98860/sample.mp4\n",
      "Processing frame of shape: (1440, 1920, 3)\n",
      "\u001b[1m1/1\u001b[0m \u001b[32m━━━━━━━━━━━━━━━━━━━━\u001b[0m\u001b[37m\u001b[0m \u001b[1m0s\u001b[0m 12ms/step\n"
     ]
    },
    {
     "name": "stderr",
     "output_type": "stream",
     "text": [
      "I0000 00:00:1717748037.236619  346981 gl_context.cc:357] GL version: 2.1 (2.1 Metal - 88.1), renderer: Apple M2\n",
      "W0000 00:00:1717748037.243178  348492 inference_feedback_manager.cc:114] Feedback manager requires a model with a single signature inference. Disabling support for feedback tensors.\n",
      "W0000 00:00:1717748037.248419  348491 inference_feedback_manager.cc:114] Feedback manager requires a model with a single signature inference. Disabling support for feedback tensors.\n"
     ]
    },
    {
     "name": "stdout",
     "output_type": "stream",
     "text": [
      "Received frame of type: <class 'NoneType'>\n",
      "Frame is None!\n",
      "Received frame of type: <class 'str'>\n",
      "Frame path: /private/var/folders/vd/py_n7g1111q0ycpyfz5ny3jr0000gn/T/gradio/e929335ff4d247133481cdbfd77184b34c90d548/sample.mp4\n",
      "Processing frame of shape: (1440, 1920, 3)\n",
      "\u001b[1m1/1\u001b[0m \u001b[32m━━━━━━━━━━━━━━━━━━━━\u001b[0m\u001b[37m\u001b[0m \u001b[1m0s\u001b[0m 14ms/step\n"
     ]
    },
    {
     "name": "stderr",
     "output_type": "stream",
     "text": [
      "I0000 00:00:1717748055.500456  346981 gl_context.cc:357] GL version: 2.1 (2.1 Metal - 88.1), renderer: Apple M2\n",
      "W0000 00:00:1717748055.519328  349431 inference_feedback_manager.cc:114] Feedback manager requires a model with a single signature inference. Disabling support for feedback tensors.\n",
      "W0000 00:00:1717748055.529703  349428 inference_feedback_manager.cc:114] Feedback manager requires a model with a single signature inference. Disabling support for feedback tensors.\n"
     ]
    },
    {
     "name": "stdout",
     "output_type": "stream",
     "text": [
      "Received frame of type: <class 'NoneType'>\n",
      "Frame is None!\n",
      "Received frame of type: <class 'str'>\n",
      "Frame path: /private/var/folders/vd/py_n7g1111q0ycpyfz5ny3jr0000gn/T/gradio/3e3c623d6837fc1dc416bba7e7309519976b9111/sample.mp4\n",
      "Processing frame of shape: (1440, 1920, 3)\n",
      "\u001b[1m1/1\u001b[0m \u001b[32m━━━━━━━━━━━━━━━━━━━━\u001b[0m\u001b[37m\u001b[0m \u001b[1m0s\u001b[0m 16ms/step\n"
     ]
    },
    {
     "name": "stderr",
     "output_type": "stream",
     "text": [
      "I0000 00:00:1717748083.849273  346981 gl_context.cc:357] GL version: 2.1 (2.1 Metal - 88.1), renderer: Apple M2\n",
      "W0000 00:00:1717748083.856636  350618 inference_feedback_manager.cc:114] Feedback manager requires a model with a single signature inference. Disabling support for feedback tensors.\n",
      "W0000 00:00:1717748083.860939  350618 inference_feedback_manager.cc:114] Feedback manager requires a model with a single signature inference. Disabling support for feedback tensors.\n"
     ]
    },
    {
     "name": "stdout",
     "output_type": "stream",
     "text": [
      "Received frame of type: <class 'NoneType'>\n",
      "Frame is None!\n",
      "Received frame of type: <class 'str'>\n",
      "Frame path: /private/var/folders/vd/py_n7g1111q0ycpyfz5ny3jr0000gn/T/gradio/da13a652a930acb39d582293535c1c47307ff716/sample.mp4\n",
      "Processing frame of shape: (1440, 1920, 3)\n",
      "\u001b[1m1/1\u001b[0m \u001b[32m━━━━━━━━━━━━━━━━━━━━\u001b[0m\u001b[37m\u001b[0m \u001b[1m0s\u001b[0m 9ms/step\n"
     ]
    },
    {
     "name": "stderr",
     "output_type": "stream",
     "text": [
      "I0000 00:00:1717748096.684124  346981 gl_context.cc:357] GL version: 2.1 (2.1 Metal - 88.1), renderer: Apple M2\n",
      "W0000 00:00:1717748096.703557  351202 inference_feedback_manager.cc:114] Feedback manager requires a model with a single signature inference. Disabling support for feedback tensors.\n",
      "W0000 00:00:1717748096.718035  351200 inference_feedback_manager.cc:114] Feedback manager requires a model with a single signature inference. Disabling support for feedback tensors.\n"
     ]
    },
    {
     "name": "stdout",
     "output_type": "stream",
     "text": [
      "Received frame of type: <class 'NoneType'>\n",
      "Frame is None!\n",
      "Received frame of type: <class 'str'>\n",
      "Frame path: /private/var/folders/vd/py_n7g1111q0ycpyfz5ny3jr0000gn/T/gradio/c720970ac364f02a780466a3cdaa314b75b1be18/sample.mp4\n",
      "Processing frame of shape: (1440, 1920, 3)\n",
      "\u001b[1m1/1\u001b[0m \u001b[32m━━━━━━━━━━━━━━━━━━━━\u001b[0m\u001b[37m\u001b[0m \u001b[1m0s\u001b[0m 10ms/step\n"
     ]
    },
    {
     "name": "stderr",
     "output_type": "stream",
     "text": [
      "I0000 00:00:1717748119.206689  346981 gl_context.cc:357] GL version: 2.1 (2.1 Metal - 88.1), renderer: Apple M2\n",
      "W0000 00:00:1717748119.225263  352350 inference_feedback_manager.cc:114] Feedback manager requires a model with a single signature inference. Disabling support for feedback tensors.\n",
      "W0000 00:00:1717748119.247614  352347 inference_feedback_manager.cc:114] Feedback manager requires a model with a single signature inference. Disabling support for feedback tensors.\n"
     ]
    },
    {
     "name": "stdout",
     "output_type": "stream",
     "text": [
      "Received frame of type: <class 'NoneType'>\n",
      "Frame is None!\n",
      "Received frame of type: <class 'str'>\n",
      "Frame path: /private/var/folders/vd/py_n7g1111q0ycpyfz5ny3jr0000gn/T/gradio/b3de706af66e3204e732183ddec10a87d26c5258/sample.mp4\n",
      "Processing frame of shape: (1440, 1920, 3)\n",
      "\u001b[1m1/1\u001b[0m \u001b[32m━━━━━━━━━━━━━━━━━━━━\u001b[0m\u001b[37m\u001b[0m \u001b[1m0s\u001b[0m 21ms/step\n"
     ]
    },
    {
     "name": "stderr",
     "output_type": "stream",
     "text": [
      "I0000 00:00:1717748258.564634  346981 gl_context.cc:357] GL version: 2.1 (2.1 Metal - 88.1), renderer: Apple M2\n",
      "W0000 00:00:1717748258.589317  357268 inference_feedback_manager.cc:114] Feedback manager requires a model with a single signature inference. Disabling support for feedback tensors.\n",
      "W0000 00:00:1717748258.631331  357268 inference_feedback_manager.cc:114] Feedback manager requires a model with a single signature inference. Disabling support for feedback tensors.\n"
     ]
    },
    {
     "name": "stdout",
     "output_type": "stream",
     "text": [
      "Received frame of type: <class 'NoneType'>\n",
      "Frame is None!\n",
      "Received frame of type: <class 'str'>\n",
      "Frame path: /private/var/folders/vd/py_n7g1111q0ycpyfz5ny3jr0000gn/T/gradio/da39a3ee5e6b4b0d3255bfef95601890afd80709/sample.mp4\n",
      "Error reading video frame!\n",
      "Frame is None!\n"
     ]
    },
    {
     "name": "stderr",
     "output_type": "stream",
     "text": [
      "[mov,mp4,m4a,3gp,3g2,mj2 @ 0x305050a00] moov atom not found\n",
      "OpenCV: Couldn't read video stream from file \"/private/var/folders/vd/py_n7g1111q0ycpyfz5ny3jr0000gn/T/gradio/da39a3ee5e6b4b0d3255bfef95601890afd80709/sample.mp4\"\n"
     ]
    },
    {
     "name": "stdout",
     "output_type": "stream",
     "text": [
      "Received frame of type: <class 'NoneType'>\n",
      "Frame is None!\n",
      "Received frame of type: <class 'str'>\n",
      "Frame path: /private/var/folders/vd/py_n7g1111q0ycpyfz5ny3jr0000gn/T/gradio/24274e99c2b3784350fe8575d151049183d78f56/sample.mp4\n",
      "Processing frame of shape: (1440, 1920, 3)\n",
      "\u001b[1m1/1\u001b[0m \u001b[32m━━━━━━━━━━━━━━━━━━━━\u001b[0m\u001b[37m\u001b[0m \u001b[1m0s\u001b[0m 14ms/step\n"
     ]
    },
    {
     "name": "stderr",
     "output_type": "stream",
     "text": [
      "I0000 00:00:1717748491.519783  346981 gl_context.cc:357] GL version: 2.1 (2.1 Metal - 88.1), renderer: Apple M2\n",
      "W0000 00:00:1717748491.528551  365784 inference_feedback_manager.cc:114] Feedback manager requires a model with a single signature inference. Disabling support for feedback tensors.\n",
      "W0000 00:00:1717748491.540938  365781 inference_feedback_manager.cc:114] Feedback manager requires a model with a single signature inference. Disabling support for feedback tensors.\n"
     ]
    },
    {
     "name": "stdout",
     "output_type": "stream",
     "text": [
      "Received frame of type: <class 'NoneType'>\n",
      "Frame is None!\n",
      "Received frame of type: <class 'str'>\n",
      "Frame path: /private/var/folders/vd/py_n7g1111q0ycpyfz5ny3jr0000gn/T/gradio/24beeadcf2fb7c5ec3eec1f606d0a8354163e272/sample.mp4\n",
      "Processing frame of shape: (1440, 1920, 3)\n"
     ]
    },
    {
     "name": "stderr",
     "output_type": "stream",
     "text": [
      "I0000 00:00:1717748523.322367  346981 gl_context.cc:357] GL version: 2.1 (2.1 Metal - 88.1), renderer: Apple M2\n",
      "W0000 00:00:1717748523.329921  367013 inference_feedback_manager.cc:114] Feedback manager requires a model with a single signature inference. Disabling support for feedback tensors.\n",
      "W0000 00:00:1717748523.335362  367015 inference_feedback_manager.cc:114] Feedback manager requires a model with a single signature inference. Disabling support for feedback tensors.\n"
     ]
    },
    {
     "name": "stdout",
     "output_type": "stream",
     "text": [
      "Received frame of type: <class 'str'>\n",
      "Frame path: /private/var/folders/vd/py_n7g1111q0ycpyfz5ny3jr0000gn/T/gradio/a208f3b4937076e05e9fd6d76236c8eeeda2ac90/sample.mp4\n",
      "Processing frame of shape: (1440, 1920, 3)\n",
      "\u001b[1m1/1\u001b[0m \u001b[32m━━━━━━━━━━━━━━━━━━━━\u001b[0m\u001b[37m\u001b[0m \u001b[1m0s\u001b[0m 12ms/step\n",
      "\u001b[1m1/1\u001b[0m \u001b[32m━━━━━━━━━━━━━━━━━━━━\u001b[0m\u001b[37m\u001b[0m \u001b[1m0s\u001b[0m 18ms/step\n"
     ]
    },
    {
     "name": "stderr",
     "output_type": "stream",
     "text": [
      "I0000 00:00:1717748550.760559  367597 gl_context.cc:357] GL version: 2.1 (2.1 Metal - 88.1), renderer: Apple M2\n",
      "W0000 00:00:1717748550.776033  368310 inference_feedback_manager.cc:114] Feedback manager requires a model with a single signature inference. Disabling support for feedback tensors.\n",
      "W0000 00:00:1717748550.782166  368310 inference_feedback_manager.cc:114] Feedback manager requires a model with a single signature inference. Disabling support for feedback tensors.\n"
     ]
    },
    {
     "name": "stdout",
     "output_type": "stream",
     "text": [
      "Received frame of type: <class 'NoneType'>\n",
      "Frame is None!\n",
      "Received frame of type: <class 'str'>\n",
      "Frame path: /private/var/folders/vd/py_n7g1111q0ycpyfz5ny3jr0000gn/T/gradio/5761d6469a73154428cd3bd714b8672cda3fe238/sample.mp4\n",
      "Processing frame of shape: (1440, 1920, 3)\n",
      "\u001b[1m1/1\u001b[0m \u001b[32m━━━━━━━━━━━━━━━━━━━━\u001b[0m\u001b[37m\u001b[0m \u001b[1m0s\u001b[0m 13ms/step\n"
     ]
    },
    {
     "name": "stderr",
     "output_type": "stream",
     "text": [
      "I0000 00:00:1717748572.542024  367597 gl_context.cc:357] GL version: 2.1 (2.1 Metal - 88.1), renderer: Apple M2\n",
      "W0000 00:00:1717748572.548675  369330 inference_feedback_manager.cc:114] Feedback manager requires a model with a single signature inference. Disabling support for feedback tensors.\n",
      "W0000 00:00:1717748572.554770  369331 inference_feedback_manager.cc:114] Feedback manager requires a model with a single signature inference. Disabling support for feedback tensors.\n"
     ]
    },
    {
     "name": "stdout",
     "output_type": "stream",
     "text": [
      "Received frame of type: <class 'NoneType'>\n",
      "Frame is None!\n",
      "Received frame of type: <class 'str'>\n",
      "Frame path: /private/var/folders/vd/py_n7g1111q0ycpyfz5ny3jr0000gn/T/gradio/a9577c2c4176cd0d8805cc874010dd517cddeb6f/sample.mp4\n",
      "Processing frame of shape: (1440, 1920, 3)\n",
      "\u001b[1m1/1\u001b[0m \u001b[32m━━━━━━━━━━━━━━━━━━━━\u001b[0m\u001b[37m\u001b[0m \u001b[1m0s\u001b[0m 14ms/step\n"
     ]
    },
    {
     "name": "stderr",
     "output_type": "stream",
     "text": [
      "I0000 00:00:1717749207.823754  367597 gl_context.cc:357] GL version: 2.1 (2.1 Metal - 88.1), renderer: Apple M2\n",
      "W0000 00:00:1717749207.842789  388716 inference_feedback_manager.cc:114] Feedback manager requires a model with a single signature inference. Disabling support for feedback tensors.\n",
      "W0000 00:00:1717749207.853494  388716 inference_feedback_manager.cc:114] Feedback manager requires a model with a single signature inference. Disabling support for feedback tensors.\n",
      "pthread_cond_wait: Invalid argument\n",
      "Exception in worker\n",
      "Traceback (most recent call last):\n",
      "  File \"/Users/richardrian/anaconda3/lib/python3.11/concurrent/futures/thread.py\", line 81, in _worker\n",
      "    work_item = work_queue.get(block=True)\n",
      "                ^^^^^^^^^^^^^^^^^^^^^^^^^^\n",
      "_queue.Empty\n"
     ]
    },
    {
     "name": "stdout",
     "output_type": "stream",
     "text": [
      "Received frame of type: <class 'NoneType'>\n",
      "Frame is None!\n"
     ]
    }
   ],
   "source": [
    "import cv2\n",
    "import mediapipe as mp\n",
    "import numpy as np\n",
    "import gradio as gr\n",
    "from keras.models import load_model\n",
    "\n",
    "# Load your trained model\n",
    "#model = load_model('models/smnist.cnn-32.64.128.512-50e.best.keras')\n",
    "\n",
    "\n",
    "# Load the model with custom objects\n",
    "custom_objects = {'focal_loss': focal_loss}\n",
    "loaded_model = tf.keras.models.load_model('models/smnist.cnn-32.64.128.512-50e.best.keras', custom_objects=custom_objects)\n",
    "\n",
    "def load_video_frame(video_path):\n",
    "    \"\"\"Loads the first frame from a video file and converts it to a NumPy array.\"\"\"\n",
    "    try:\n",
    "        cap = cv2.VideoCapture(video_path)\n",
    "        ret, frame = cap.read()\n",
    "        cap.release()\n",
    "        if not ret:\n",
    "            print(\"Error reading video frame!\")\n",
    "            return None\n",
    "        return frame\n",
    "    except Exception as e:\n",
    "        print(f\"Error loading video frame from path: {e}\")\n",
    "        return None\n",
    "\n",
    "def hand_gesture_recognition(frame):\n",
    "    \"\"\"Processes a video frame for hand gesture recognition.\n",
    "\n",
    "    Args:\n",
    "        frame: A file path or a NumPy array representing the video frame.\n",
    "\n",
    "    Returns:\n",
    "        A tuple containing:\n",
    "            - predicted_letter (str): The predicted letter or None if no hand is detected.\n",
    "            - confidence (dict): A dictionary with the predicted letter and confidence score.\n",
    "            - frame (NumPy array): The original frame with a bounding box around the detected hand (if any).\n",
    "    \"\"\"\n",
    "    print(f\"Received frame of type: {type(frame)}\")\n",
    "\n",
    "    if isinstance(frame, str):\n",
    "        print(f\"Frame path: {frame}\")\n",
    "        frame = load_video_frame(frame)\n",
    "\n",
    "    if frame is None:\n",
    "        print(\"Frame is None!\")\n",
    "        return None, {\"confidence\": 0.0}, frame\n",
    "    if not isinstance(frame, np.ndarray):\n",
    "        print(\"Frame is not a NumPy array!\")\n",
    "        return None, {\"confidence\": 0.0}, frame\n",
    "    if frame.size == 0:\n",
    "        print(\"Frame size is 0!\")\n",
    "        return None, {\"confidence\": 0.0}, frame\n",
    "\n",
    "    print(\"Processing frame of shape:\", frame.shape)\n",
    "\n",
    "    # MediaPipe hand detection setup\n",
    "    mphands = mp.solutions.hands\n",
    "    hands = mphands.Hands()\n",
    "    mp_drawing = mp.solutions.drawing_utils\n",
    "\n",
    "    try:\n",
    "        # Convert BGR frame to RGB for MediaPipe\n",
    "        framergb = cv2.cvtColor(frame, cv2.COLOR_BGR2RGB)\n",
    "    except cv2.error as e:\n",
    "        print(\"Error converting frame to RGB:\", e)\n",
    "        return None, {\"confidence\": 0.0}, frame\n",
    "\n",
    "    # Detect hands in the frame\n",
    "    result = hands.process(framergb)\n",
    "    hand_landmarks = result.multi_hand_landmarks\n",
    "\n",
    "    predicted_letter = None\n",
    "    confidence = 0.0\n",
    "\n",
    "    if hand_landmarks:\n",
    "        # Extract hand region from the frame\n",
    "        for handLMs in hand_landmarks:\n",
    "            x_max = 0\n",
    "            y_max = 0\n",
    "            x_min = frame.shape[1]  # Width\n",
    "            y_min = frame.shape[0]  # Height\n",
    "            for lm in handLMs.landmark:\n",
    "                x, y = int(lm.x * frame.shape[1]), int(lm.y * frame.shape[0])\n",
    "                x_max = max(x_max, x)\n",
    "                y_max = max(y_max, y)\n",
    "                x_min = min(x_min, x)\n",
    "                y_min = min(y_min, y)\n",
    "\n",
    "            y_min = max(0, y_min - 20)  # Adjust bounding box margin\n",
    "            y_max = min(frame.shape[0], y_max + 20)\n",
    "            x_min = max(0, x_min - 20)\n",
    "            x_max = min(frame.shape[1], x_max + 20)\n",
    "\n",
    "            hand_region = frame[y_min:y_max, x_min:x_max]\n",
    "\n",
    "            # Preprocess hand region for model input\n",
    "            hand_region = cv2.cvtColor(hand_region, cv2.COLOR_BGR2GRAY)\n",
    "            hand_region = cv2.resize(hand_region, (28, 28))\n",
    "\n",
    "            hand_region = hand_region.reshape(1, 28, 28, 1)\n",
    "            hand_region = hand_region.astype('float32') / 255.0\n",
    "\n",
    "            # Make prediction using the loaded model\n",
    "            prediction = model.predict(hand_region)\n",
    "            predarray = np.array(prediction[0])\n",
    "            letterpred = ['A', 'B', 'C', 'D', 'E', 'F', 'G', 'H', 'I', 'K', 'L', 'M', 'N', 'O', 'P', 'Q', 'R', 'S', 'T', 'U', 'V', 'W', 'X', 'Y']\n",
    "            letter_prediction_dict = {letterpred[i]: predarray[i] for i in range(len(letterpred))}\n",
    "\n",
    "            # Choose the most confident prediction\n",
    "            predicted_letter = max(letter_prediction_dict, key=letter_prediction_dict.get)\n",
    "            confidence = float(letter_prediction_dict[predicted_letter])\n",
    "\n",
    "            # Draw bounding box around the detected hand\n",
    "            cv2.rectangle(frame, (x_min, y_min), (x_max, y_max), (0, 255, 0), 2)  # Green bounding box with thickness 2\n",
    "\n",
    "    return predicted_letter, {\"confidence\": confidence}, frame\n",
    "\n",
    "# Create a Gradio interface\n",
    "interface = gr.Interface(\n",
    "    fn=hand_gesture_recognition,\n",
    "    inputs=gr.Video(label=\"Webcam\"),\n",
    "    outputs=[gr.Label(label=\"Predicted Letter\"), gr.Label(label=\"Confidence\"), gr.Image(type=\"numpy\")],\n",
    "    live=True,\n",
    "    title=\"Hand Gesture Recognition\",\n",
    "    description=\"Show your hand and get the predicted letter and confidence score.\"\n",
    ")\n",
    "\n",
    "# Launch the Gradio interface\n",
    "interface.launch()"
   ]
  },
  {
   "cell_type": "markdown",
   "metadata": {},
   "source": [
    "## RC2"
   ]
  },
  {
   "cell_type": "markdown",
   "metadata": {},
   "source": []
  },
  {
   "cell_type": "markdown",
   "metadata": {},
   "source": [
    "# RC3"
   ]
  },
  {
   "cell_type": "code",
   "execution_count": 9,
   "metadata": {},
   "outputs": [],
   "source": [
    "#!pip install gradio --upgrade"
   ]
  },
  {
   "cell_type": "code",
   "execution_count": 10,
   "metadata": {},
   "outputs": [],
   "source": [
    "#!pip install mediapipe"
   ]
  },
  {
   "cell_type": "code",
   "execution_count": null,
   "metadata": {},
   "outputs": [
    {
     "ename": "TypeError",
     "evalue": "Video.__init__() got an unexpected keyword argument 'source'",
     "output_type": "error",
     "traceback": [
      "\u001b[0;31m---------------------------------------------------------------------------\u001b[0m",
      "\u001b[0;31mTypeError\u001b[0m                                 Traceback (most recent call last)",
      "Cell \u001b[0;32mIn[11], line 147\u001b[0m\n\u001b[1;32m    142\u001b[0m     \u001b[38;5;28;01mreturn\u001b[39;00m predicted_letter, top_predictions, frame\n\u001b[1;32m    144\u001b[0m \u001b[38;5;66;03m# Create a Gradio interface\u001b[39;00m\n\u001b[1;32m    145\u001b[0m interface \u001b[38;5;241m=\u001b[39m gr\u001b[38;5;241m.\u001b[39mInterface(\n\u001b[1;32m    146\u001b[0m     fn\u001b[38;5;241m=\u001b[39mhand_gesture_recognition,\n\u001b[0;32m--> 147\u001b[0m     inputs\u001b[38;5;241m=\u001b[39mgr\u001b[38;5;241m.\u001b[39mVideo(source\u001b[38;5;241m=\u001b[39m\u001b[38;5;124m'\u001b[39m\u001b[38;5;124mwebcam\u001b[39m\u001b[38;5;124m'\u001b[39m),\n\u001b[1;32m    148\u001b[0m     outputs\u001b[38;5;241m=\u001b[39m[gr\u001b[38;5;241m.\u001b[39mLabel(label\u001b[38;5;241m=\u001b[39m\u001b[38;5;124m\"\u001b[39m\u001b[38;5;124mPredicted Letter\u001b[39m\u001b[38;5;124m\"\u001b[39m), gr\u001b[38;5;241m.\u001b[39mLabel(label\u001b[38;5;241m=\u001b[39m\u001b[38;5;124m\"\u001b[39m\u001b[38;5;124mPredictions\u001b[39m\u001b[38;5;124m\"\u001b[39m), gr\u001b[38;5;241m.\u001b[39mImage(\u001b[38;5;28mtype\u001b[39m\u001b[38;5;241m=\u001b[39m\u001b[38;5;124m\"\u001b[39m\u001b[38;5;124mnumpy\u001b[39m\u001b[38;5;124m\"\u001b[39m)],\n\u001b[1;32m    149\u001b[0m     live\u001b[38;5;241m=\u001b[39m\u001b[38;5;28;01mTrue\u001b[39;00m,\n\u001b[1;32m    150\u001b[0m     title\u001b[38;5;241m=\u001b[39m\u001b[38;5;124m\"\u001b[39m\u001b[38;5;124mHand Gesture Recognition\u001b[39m\u001b[38;5;124m\"\u001b[39m,\n\u001b[1;32m    151\u001b[0m     description\u001b[38;5;241m=\u001b[39m\u001b[38;5;124m\"\u001b[39m\u001b[38;5;124mShow your hand and get the predicted letter and confidence scores.\u001b[39m\u001b[38;5;124m\"\u001b[39m\n\u001b[1;32m    152\u001b[0m )\n\u001b[1;32m    154\u001b[0m \u001b[38;5;66;03m# Launch the Gradio interface\u001b[39;00m\n\u001b[1;32m    155\u001b[0m interface\u001b[38;5;241m.\u001b[39mlaunch()\n",
      "File \u001b[0;32m~/anaconda3/lib/python3.11/site-packages/gradio/component_meta.py:163\u001b[0m, in \u001b[0;36mupdateable.<locals>.wrapper\u001b[0;34m(*args, **kwargs)\u001b[0m\n\u001b[1;32m    161\u001b[0m     \u001b[38;5;28;01mreturn\u001b[39;00m \u001b[38;5;28;01mNone\u001b[39;00m\n\u001b[1;32m    162\u001b[0m \u001b[38;5;28;01melse\u001b[39;00m:\n\u001b[0;32m--> 163\u001b[0m     \u001b[38;5;28;01mreturn\u001b[39;00m fn(\u001b[38;5;28mself\u001b[39m, \u001b[38;5;241m*\u001b[39m\u001b[38;5;241m*\u001b[39mkwargs)\n",
      "\u001b[0;31mTypeError\u001b[0m: Video.__init__() got an unexpected keyword argument 'source'"
     ]
    },
    {
     "name": "stdout",
     "output_type": "stream",
     "text": [
      "Received frame of type: <class 'str'>\n",
      "Frame path: /private/var/folders/vd/py_n7g1111q0ycpyfz5ny3jr0000gn/T/gradio/429fc027cfcf7bcbfb32f157266066ce83883632/sample.mp4\n",
      "Processing frame of shape: (1440, 1920, 3)\n"
     ]
    },
    {
     "name": "stderr",
     "output_type": "stream",
     "text": [
      "WARNING: All log messages before absl::InitializeLog() is called are written to STDERR\n",
      "I0000 00:00:1717744200.625089  260893 gl_context.cc:357] GL version: 2.1 (2.1 Metal - 88.1), renderer: Apple M2\n",
      "INFO: Created TensorFlow Lite XNNPACK delegate for CPU.\n",
      "W0000 00:00:1717744200.665228  261976 inference_feedback_manager.cc:114] Feedback manager requires a model with a single signature inference. Disabling support for feedback tensors.\n",
      "W0000 00:00:1717744200.687364  261976 inference_feedback_manager.cc:114] Feedback manager requires a model with a single signature inference. Disabling support for feedback tensors.\n",
      "/Users/richardrian/anaconda3/lib/python3.11/site-packages/google/protobuf/symbol_database.py:55: UserWarning: SymbolDatabase.GetPrototype() is deprecated. Please use message_factory.GetMessageClass() instead. SymbolDatabase.GetPrototype() will be removed soon.\n",
      "  warnings.warn('SymbolDatabase.GetPrototype() is deprecated. Please '\n"
     ]
    },
    {
     "name": "stdout",
     "output_type": "stream",
     "text": [
      "\u001b[1m1/1\u001b[0m \u001b[32m━━━━━━━━━━━━━━━━━━━━\u001b[0m\u001b[37m\u001b[0m \u001b[1m0s\u001b[0m 40ms/step\n",
      "Received frame of type: <class 'NoneType'>\n",
      "Frame is None!\n",
      "Received frame of type: <class 'str'>\n",
      "Frame path: /private/var/folders/vd/py_n7g1111q0ycpyfz5ny3jr0000gn/T/gradio/0c7cdc7a292f0bcbc6faeaa7340c0c713b6a4701/sample.mp4\n",
      "Processing frame of shape: (1440, 1920, 3)\n",
      "\u001b[1m1/1\u001b[0m \u001b[32m━━━━━━━━━━━━━━━━━━━━\u001b[0m\u001b[37m\u001b[0m \u001b[1m0s\u001b[0m 13ms/step\n"
     ]
    },
    {
     "name": "stderr",
     "output_type": "stream",
     "text": [
      "I0000 00:00:1717744216.617313  260893 gl_context.cc:357] GL version: 2.1 (2.1 Metal - 88.1), renderer: Apple M2\n",
      "W0000 00:00:1717744216.657954  262741 inference_feedback_manager.cc:114] Feedback manager requires a model with a single signature inference. Disabling support for feedback tensors.\n",
      "W0000 00:00:1717744216.670757  262742 inference_feedback_manager.cc:114] Feedback manager requires a model with a single signature inference. Disabling support for feedback tensors.\n"
     ]
    },
    {
     "name": "stdout",
     "output_type": "stream",
     "text": [
      "Received frame of type: <class 'NoneType'>\n",
      "Frame is None!\n",
      "Received frame of type: <class 'str'>\n",
      "Frame path: /private/var/folders/vd/py_n7g1111q0ycpyfz5ny3jr0000gn/T/gradio/f581c9150d49f44881f1da943069aa907b766590/sample.mp4\n",
      "Processing frame of shape: (1440, 1920, 3)\n",
      "\u001b[1m1/1\u001b[0m \u001b[32m━━━━━━━━━━━━━━━━━━━━\u001b[0m\u001b[37m\u001b[0m \u001b[1m0s\u001b[0m 15ms/step\n"
     ]
    },
    {
     "name": "stderr",
     "output_type": "stream",
     "text": [
      "I0000 00:00:1717744231.801659  260893 gl_context.cc:357] GL version: 2.1 (2.1 Metal - 88.1), renderer: Apple M2\n",
      "W0000 00:00:1717744231.811713  263469 inference_feedback_manager.cc:114] Feedback manager requires a model with a single signature inference. Disabling support for feedback tensors.\n",
      "W0000 00:00:1717744231.822293  263471 inference_feedback_manager.cc:114] Feedback manager requires a model with a single signature inference. Disabling support for feedback tensors.\n"
     ]
    },
    {
     "name": "stdout",
     "output_type": "stream",
     "text": [
      "Received frame of type: <class 'NoneType'>\n",
      "Frame is None!\n",
      "Received frame of type: <class 'str'>\n",
      "Frame path: /private/var/folders/vd/py_n7g1111q0ycpyfz5ny3jr0000gn/T/gradio/3feb051e9186906cea20e672a3134cfc0b59fe5d/sample.mp4\n",
      "Processing frame of shape: (1440, 1920, 3)\n",
      "\u001b[1m1/1\u001b[0m \u001b[32m━━━━━━━━━━━━━━━━━━━━\u001b[0m\u001b[37m\u001b[0m \u001b[1m0s\u001b[0m 26ms/step\n"
     ]
    },
    {
     "name": "stderr",
     "output_type": "stream",
     "text": [
      "I0000 00:00:1717747402.978143  260893 gl_context.cc:357] GL version: 2.1 (2.1 Metal - 88.1), renderer: Apple M2\n",
      "W0000 00:00:1717747402.990938  324819 inference_feedback_manager.cc:114] Feedback manager requires a model with a single signature inference. Disabling support for feedback tensors.\n",
      "W0000 00:00:1717747403.003143  324821 inference_feedback_manager.cc:114] Feedback manager requires a model with a single signature inference. Disabling support for feedback tensors.\n"
     ]
    },
    {
     "name": "stdout",
     "output_type": "stream",
     "text": [
      "Received frame of type: <class 'str'>\n",
      "Frame path: /private/var/folders/vd/py_n7g1111q0ycpyfz5ny3jr0000gn/T/gradio/429fc027cfcf7bcbfb32f157266066ce83883632/sample.mp4\n",
      "Processing frame of shape: (1440, 1920, 3)\n",
      "\u001b[1m1/1\u001b[0m \u001b[32m━━━━━━━━━━━━━━━━━━━━\u001b[0m\u001b[37m\u001b[0m \u001b[1m0s\u001b[0m 10ms/step\n"
     ]
    },
    {
     "name": "stderr",
     "output_type": "stream",
     "text": [
      "I0000 00:00:1717747410.425886  260893 gl_context.cc:357] GL version: 2.1 (2.1 Metal - 88.1), renderer: Apple M2\n",
      "W0000 00:00:1717747410.435141  325217 inference_feedback_manager.cc:114] Feedback manager requires a model with a single signature inference. Disabling support for feedback tensors.\n",
      "W0000 00:00:1717747410.445510  325215 inference_feedback_manager.cc:114] Feedback manager requires a model with a single signature inference. Disabling support for feedback tensors.\n"
     ]
    },
    {
     "name": "stdout",
     "output_type": "stream",
     "text": [
      "Received frame of type: <class 'NoneType'>\n",
      "Frame is None!\n",
      "Received frame of type: <class 'str'>\n",
      "Frame path: /private/var/folders/vd/py_n7g1111q0ycpyfz5ny3jr0000gn/T/gradio/6f0fa75076259c40921a3db793b18a88366c808f/sample.mp4\n",
      "Processing frame of shape: (1440, 1920, 3)\n",
      "\u001b[1m1/1\u001b[0m \u001b[32m━━━━━━━━━━━━━━━━━━━━\u001b[0m\u001b[37m\u001b[0m \u001b[1m0s\u001b[0m 10ms/step\n"
     ]
    },
    {
     "name": "stderr",
     "output_type": "stream",
     "text": [
      "I0000 00:00:1717747423.821578  325802 gl_context.cc:357] GL version: 2.1 (2.1 Metal - 88.1), renderer: Apple M2\n",
      "W0000 00:00:1717747423.842911  325863 inference_feedback_manager.cc:114] Feedback manager requires a model with a single signature inference. Disabling support for feedback tensors.\n",
      "W0000 00:00:1717747423.848189  325865 inference_feedback_manager.cc:114] Feedback manager requires a model with a single signature inference. Disabling support for feedback tensors.\n"
     ]
    },
    {
     "name": "stdout",
     "output_type": "stream",
     "text": [
      "Received frame of type: <class 'NoneType'>\n",
      "Frame is None!\n",
      "Received frame of type: <class 'str'>\n",
      "Frame path: /private/var/folders/vd/py_n7g1111q0ycpyfz5ny3jr0000gn/T/gradio/5cf5ddb8b439c101ac1633b6ab2fc0971645bf6e/sample.mp4\n",
      "Processing frame of shape: (1440, 1920, 3)\n",
      "\u001b[1m1/1\u001b[0m \u001b[32m━━━━━━━━━━━━━━━━━━━━\u001b[0m\u001b[37m\u001b[0m \u001b[1m0s\u001b[0m 16ms/step\n"
     ]
    },
    {
     "name": "stderr",
     "output_type": "stream",
     "text": [
      "I0000 00:00:1717747453.708908  325802 gl_context.cc:357] GL version: 2.1 (2.1 Metal - 88.1), renderer: Apple M2\n",
      "W0000 00:00:1717747453.718602  327068 inference_feedback_manager.cc:114] Feedback manager requires a model with a single signature inference. Disabling support for feedback tensors.\n",
      "W0000 00:00:1717747453.725363  327068 inference_feedback_manager.cc:114] Feedback manager requires a model with a single signature inference. Disabling support for feedback tensors.\n"
     ]
    }
   ],
   "source": [
    "import cv2\n",
    "import mediapipe as mp\n",
    "import numpy as np\n",
    "import gradio as gr\n",
    "from keras.models import load_model\n",
    "\n",
    "# Load your trained model\n",
    "# model = load_model('models/smnist.cnn-32.64.128.512-50e.best.keras.keras')\n",
    "# Load the model with custom objects\n",
    "custom_objects = {'focal_loss': focal_loss}\n",
    "model = load_model('models/smnist.cnn-32.64.128.512-50e.best.keras', custom_objects=custom_objects)\n",
    "\n",
    "def load_video_frame(video_path):\n",
    "    \"\"\"Loads the first frame from a video file and converts it to a NumPy array.\"\"\"\n",
    "    try:\n",
    "        cap = cv2.VideoCapture(video_path)\n",
    "        ret, frame = cap.read()\n",
    "        cap.release()\n",
    "        if not ret:\n",
    "            print(\"Error reading video frame!\")\n",
    "            return None\n",
    "        return frame\n",
    "    except Exception as e:\n",
    "        print(f\"Error loading video frame from path: {e}\")\n",
    "        return None\n",
    "\n",
    "def preprocess_hand_region(hand_region):\n",
    "    \"\"\"Preprocesses the hand region for model input.\"\"\"\n",
    "    hand_region_gray = cv2.cvtColor(hand_region, cv2.COLOR_BGR2GRAY)\n",
    "    hand_region_resized = cv2.resize(hand_region_gray, (28, 28))\n",
    "    hand_region_normalized = hand_region_resized / 255.0\n",
    "    hand_region_input = hand_region_normalized.reshape(1, 28, 28, 1)\n",
    "    \n",
    "    # Debugging: Print preprocessed hand region details\n",
    "    print(f\"Hand region gray shape: {hand_region_gray.shape}\")\n",
    "    print(f\"Hand region resized shape: {hand_region_resized.shape}\")\n",
    "    print(f\"Hand region normalized shape: {hand_region_normalized.shape}\")\n",
    "    print(f\"Hand region input shape: {hand_region_input.shape}\")\n",
    "    \n",
    "    return hand_region_input\n",
    "\n",
    "def hand_gesture_recognition(frame):\n",
    "    \"\"\"Processes a video frame for hand gesture recognition.\n",
    "\n",
    "    Args:\n",
    "        frame: A file path or a NumPy array representing the video frame.\n",
    "\n",
    "    Returns:\n",
    "        A tuple containing:\n",
    "            - predicted_letter (str): The predicted letter or None if no hand is detected.\n",
    "            - predictions (dict): A dictionary with the predicted letters and their confidence scores.\n",
    "            - frame (NumPy array): The original frame with a bounding box around the detected hand (if any).\n",
    "    \"\"\"\n",
    "    print(f\"Received frame of type: {type(frame)}\")\n",
    "\n",
    "    if isinstance(frame, str):\n",
    "        print(f\"Frame path: {frame}\")\n",
    "        frame = load_video_frame(frame)\n",
    "\n",
    "    if frame is None:\n",
    "        print(\"Frame is None!\")\n",
    "        return None, {\"Predictions\": {}}, frame\n",
    "    if not isinstance(frame, np.ndarray):\n",
    "        print(\"Frame is not a NumPy array!\")\n",
    "        return None, {\"Predictions\": {}}, frame\n",
    "    if frame.size == 0:\n",
    "        print(\"Frame size is 0!\")\n",
    "        return None, {\"Predictions\": {}}, frame\n",
    "\n",
    "    print(\"Processing frame of shape:\", frame.shape)\n",
    "\n",
    "    # MediaPipe hand detection setup\n",
    "    mphands = mp.solutions.hands\n",
    "    hands = mphands.Hands()\n",
    "    mp_drawing = mp.solutions.drawing_utils\n",
    "\n",
    "    try:\n",
    "        # Convert BGR frame to RGB for MediaPipe\n",
    "        framergb = cv2.cvtColor(frame, cv2.COLOR_BGR2RGB)\n",
    "    except cv2.error as e:\n",
    "        print(\"Error converting frame to RGB:\", e)\n",
    "        return None, {\"Predictions\": {}}, frame\n",
    "\n",
    "    # Detect hands in the frame\n",
    "    result = hands.process(framergb)\n",
    "    hand_landmarks = result.multi_hand_landmarks\n",
    "\n",
    "    predicted_letter = None\n",
    "    predictions = {}\n",
    "\n",
    "    if hand_landmarks:\n",
    "        for handLMs in hand_landmarks:\n",
    "            x_max = 0\n",
    "            y_max = 0\n",
    "            x_min = frame.shape[1]  # Width\n",
    "            y_min = frame.shape[0]  # Height\n",
    "            for lm in handLMs.landmark:\n",
    "                x, y = int(lm.x * frame.shape[1]), int(lm.y * frame.shape[0])\n",
    "                x_max = max(x_max, x)\n",
    "                y_max = max(y_max, y)\n",
    "                x_min = min(x_min, x)\n",
    "                y_min = min(y_min, y)\n",
    "\n",
    "            x_min = max(0, x_min - 20)  # Adjust bounding box margin\n",
    "            y_min = max(0, y_min - 20)\n",
    "            x_max = min(frame.shape[1], x_max + 20)\n",
    "            y_max = min(frame.shape[0], y_max + 20)\n",
    "\n",
    "            hand_region = frame[y_min:y_max, x_min:x_max]\n",
    "\n",
    "            # Debugging: Print hand region details\n",
    "            print(f\"Hand region coordinates: x_min={x_min}, y_min={y_min}, x_max={x_max}, y_max={y_max}\")\n",
    "            print(f\"Hand region shape: {hand_region.shape}\")\n",
    "\n",
    "            # Preprocess hand region for model input\n",
    "            hand_region_input = preprocess_hand_region(hand_region)\n",
    "\n",
    "            # Make prediction using the loaded model\n",
    "            prediction = model.predict(hand_region_input)\n",
    "            predarray = np.array(prediction[0])\n",
    "            letterpred = ['A', 'B', 'C', 'D', 'E', 'F', 'G', 'H', 'I', 'K', 'L', 'M', 'N', 'O', 'P', 'Q', 'R', 'S', 'T', 'U', 'V', 'W', 'X', 'Y']\n",
    "            predictions = {letterpred[i]: float(predarray[i]) for i in range(len(letterpred))}\n",
    "            \n",
    "            # Get top 5 predictions with confidence scores\n",
    "            top_predictions = dict(sorted(predictions.items(), key=lambda item: item[1], reverse=True)[:5])\n",
    "\n",
    "            # Print top 5 predictions with confidence scores\n",
    "            for letter, confidence in top_predictions.items():\n",
    "                print(f\"Top Prediction: {letter}, Confidence: {confidence}\")\n",
    "\n",
    "            # Print predictions with confidence scores\n",
    "            for letter, confidence in predictions.items():\n",
    "                print(f\"Prediction: {letter}, Confidence: {confidence}\")\n",
    "\n",
    "            # Choose the most confident prediction\n",
    "            predicted_letter = max(predictions, key=predictions.get)\n",
    "            confidence = predictions[predicted_letter]\n",
    "\n",
    "            # Draw bounding box around the detected hand\n",
    "            cv2.rectangle(frame, (x_min, y_min), (x_max, y_max), (0, 255, 0), 2)  # Green bounding box with thickness 2\n",
    "\n",
    "    return predicted_letter, top_predictions, frame\n",
    "\n",
    "# Create a Gradio interface\n",
    "interface = gr.Interface(\n",
    "    fn=hand_gesture_recognition,\n",
    "    inputs=gr.Video(source='webcam'),\n",
    "    outputs=[gr.Label(label=\"Predicted Letter\"), gr.Label(label=\"Predictions\"), gr.Image(type=\"numpy\")],\n",
    "    live=True,\n",
    "    title=\"Hand Gesture Recognition\",\n",
    "    description=\"Show your hand and get the predicted letter and confidence scores.\"\n",
    ")\n",
    "\n",
    "# Launch the Gradio interface\n",
    "interface.launch()"
   ]
  },
  {
   "cell_type": "markdown",
   "metadata": {},
   "source": [
    "# DEBUG"
   ]
  },
  {
   "cell_type": "code",
   "execution_count": null,
   "metadata": {},
   "outputs": [
    {
     "name": "stdout",
     "output_type": "stream",
     "text": [
      "1/1 [==============================] - 0s 17ms/step\n",
      "Predictions for 1.png:\n",
      "Prediction: A, Confidence: 0.9541935921)\n",
      "Prediction: B, Confidence: 0.0000000001)\n",
      "Prediction: C, Confidence: 0.0000271350)\n",
      "Prediction: D, Confidence: 0.0000157258)\n",
      "Prediction: E, Confidence: 0.0000000756)\n",
      "Prediction: F, Confidence: 0.0000016303)\n",
      "Prediction: G, Confidence: 0.0000021547)\n",
      "Prediction: H, Confidence: 0.0062137563)\n",
      "Prediction: I, Confidence: 0.0034166600)\n",
      "Prediction: K, Confidence: 0.0000012812)\n",
      "Prediction: L, Confidence: 0.0001189039)\n",
      "Prediction: M, Confidence: 0.0001220566)\n",
      "Prediction: N, Confidence: 0.0016693972)\n",
      "Prediction: O, Confidence: 0.0000006264)\n",
      "Prediction: P, Confidence: 0.0000002194)\n",
      "Prediction: Q, Confidence: 0.0000000017)\n",
      "Prediction: R, Confidence: 0.0000077215)\n",
      "Prediction: S, Confidence: 0.0014998493)\n",
      "Prediction: T, Confidence: 0.0000176777)\n",
      "Prediction: U, Confidence: 0.0000000004)\n",
      "Prediction: V, Confidence: 0.0000000434)\n",
      "Prediction: W, Confidence: 0.0000000131)\n",
      "Prediction: X, Confidence: 0.0000000618)\n",
      "Prediction: Y, Confidence: 0.0326913856)\n"
     ]
    },
    {
     "data": {
      "image/png": "[encoded data removed]",
      "text/plain": [
       "<Figure size 640x480 with 1 Axes>"
      ]
     },
     "metadata": {},
     "output_type": "display_data"
    },
    {
     "name": "stdout",
     "output_type": "stream",
     "text": [
      "1/1 [==============================] - 0s 11ms/step\n",
      "Predictions for 2.png:\n",
      "Prediction: A, Confidence: 0.0007030075)\n",
      "Prediction: B, Confidence: 0.0002604297)\n",
      "Prediction: C, Confidence: 0.9883583188)\n",
      "Prediction: D, Confidence: 0.0000287561)\n",
      "Prediction: E, Confidence: 0.0001540366)\n",
      "Prediction: F, Confidence: 0.0000196693)\n",
      "Prediction: G, Confidence: 0.0001002501)\n",
      "Prediction: H, Confidence: 0.0000914881)\n",
      "Prediction: I, Confidence: 0.0000066651)\n",
      "Prediction: K, Confidence: 0.0003677278)\n",
      "Prediction: L, Confidence: 0.0000039052)\n",
      "Prediction: M, Confidence: 0.0000484703)\n",
      "Prediction: N, Confidence: 0.0020718647)\n",
      "Prediction: O, Confidence: 0.0067351088)\n",
      "Prediction: P, Confidence: 0.0000415452)\n",
      "Prediction: Q, Confidence: 0.0007793920)\n",
      "Prediction: R, Confidence: 0.0000001261)\n",
      "Prediction: S, Confidence: 0.0000027640)\n",
      "Prediction: T, Confidence: 0.0000008124)\n",
      "Prediction: U, Confidence: 0.0000090673)\n",
      "Prediction: V, Confidence: 0.0000000006)\n",
      "Prediction: W, Confidence: 0.0000002360)\n",
      "Prediction: X, Confidence: 0.0001982833)\n",
      "Prediction: Y, Confidence: 0.0000180726)\n"
     ]
    },
    {
     "data": {
      "image/png": "[encoded data removed]",
      "text/plain": [
       "<Figure size 640x480 with 1 Axes>"
      ]
     },
     "metadata": {},
     "output_type": "display_data"
    },
    {
     "name": "stdout",
     "output_type": "stream",
     "text": [
      "1/1 [==============================] - 0s 10ms/step\n",
      "Predictions for 3.png:\n",
      "Prediction: A, Confidence: 0.0000000017)\n",
      "Prediction: B, Confidence: 0.0000000000)\n",
      "Prediction: C, Confidence: 0.0000000329)\n",
      "Prediction: D, Confidence: 0.0001600322)\n",
      "Prediction: E, Confidence: 0.0000000000)\n",
      "Prediction: F, Confidence: 0.0000000072)\n",
      "Prediction: G, Confidence: 0.0000000002)\n",
      "Prediction: H, Confidence: 0.0000002592)\n",
      "Prediction: I, Confidence: 0.0000664980)\n",
      "Prediction: K, Confidence: 0.0000000281)\n",
      "Prediction: L, Confidence: 0.9994693398)\n",
      "Prediction: M, Confidence: 0.0000000010)\n",
      "Prediction: N, Confidence: 0.0000000016)\n",
      "Prediction: O, Confidence: 0.0000000000)\n",
      "Prediction: P, Confidence: 0.0000000000)\n",
      "Prediction: Q, Confidence: 0.0000000000)\n",
      "Prediction: R, Confidence: 0.0000001128)\n",
      "Prediction: S, Confidence: 0.0000000076)\n",
      "Prediction: T, Confidence: 0.0002597722)\n",
      "Prediction: U, Confidence: 0.0000000000)\n",
      "Prediction: V, Confidence: 0.0000049396)\n",
      "Prediction: W, Confidence: 0.0000000000)\n",
      "Prediction: X, Confidence: 0.0000000000)\n",
      "Prediction: Y, Confidence: 0.0000390807)\n"
     ]
    },
    {
     "data": {
      "image/png": "[encoded data removed]",
      "text/plain": [
       "<Figure size 640x480 with 1 Axes>"
      ]
     },
     "metadata": {},
     "output_type": "display_data"
    }
   ],
   "source": [
    "from PIL import Image\n",
    "import numpy as np\n",
    "import matplotlib.pyplot as plt\n",
    "\n",
    "# Load and preprocess the provided images\n",
    "image_paths = [\n",
    "    \"1.png\",\n",
    "    \"2.png\",\n",
    "    \"3.png\"\n",
    "]\n",
    "\n",
    "for image_path in image_paths:\n",
    "    image = Image.open(image_path).convert('L')  # Convert to grayscale\n",
    "    image_resized = image.resize((28, 28))\n",
    "    image_array = np.array(image_resized) / 255.0\n",
    "    image_input = image_array.reshape(1, 28, 28, 1)\n",
    "\n",
    "    # Make prediction using the loaded model\n",
    "    prediction = model.predict(image_input)\n",
    "    predarray = np.array(prediction[0])\n",
    "    letterpred = ['A', 'B', 'C', 'D', 'E', 'F', 'G', 'H', 'I', 'K', 'L', 'M', 'N', 'O', 'P', 'Q', 'R', 'S', 'T', 'U', 'V', 'W', 'X', 'Y']\n",
    "    predictions = {letterpred[i]: float(predarray[i]) for i in range(len(letterpred))}\n",
    "\n",
    "    # Print predictions with confidence scores\n",
    "    print(f\"Predictions for {image_path}:\")\n",
    "    for letter, confidence in predictions.items():\n",
    "        number = confidence\n",
    "        print(f\"Prediction: {letter}, Confidence: {number:.10f})\")\n",
    "\n",
    "    # Display the image\n",
    "    plt.imshow(image_array, cmap='gray')\n",
    "    plt.title(f\"Predictions for {image_path}\")\n",
    "    plt.show()"
   ]
  },
  {
   "cell_type": "markdown",
   "metadata": {},
   "source": []
  }
 ],
 "metadata": {
  "accelerator": "GPU",
  "colab": {
   "gpuType": "T4",
   "provenance": []
  },
  "kernelspec": {
   "display_name": "Python 3 (ipykernel)",
   "language": "python",
   "name": "python3"
  },
  "language_info": {
   "codemirror_mode": {
    "name": "ipython",
    "version": 3
   },
   "file_extension": ".py",
   "mimetype": "text/x-python",
   "name": "python",
   "nbconvert_exporter": "python",
   "pygments_lexer": "ipython3",
   "version": "3.11.8"
  }
 },
 "nbformat": 4,
 "nbformat_minor": 4
}
